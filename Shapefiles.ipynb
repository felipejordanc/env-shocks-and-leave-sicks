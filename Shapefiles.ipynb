{
 "cells": [
  {
   "cell_type": "code",
   "execution_count": 4,
   "id": "7ad3066e",
   "metadata": {},
   "outputs": [
    {
     "name": "stdout",
     "output_type": "stream",
     "text": [
      "Exportado: C:\\Users\\black\\Downloads\\microdatos_manzana\\Centroide\\Centroides_Manzana_32718.shp\n",
      "Exportado: C:\\Users\\black\\Downloads\\microdatos_manzana\\Centroide\\Centroides_Manzana_32719.shp\n"
     ]
    }
   ],
   "source": [
    "import geopandas as gpd\n",
    "import pandas as pd\n",
    "from pathlib import Path\n",
    "\n",
    "# Paths\n",
    "input_path = r\"C:\\Users\\black\\Downloads\\microdatos_manzana\\Microdatos_Manzana.shp\"\n",
    "out_dir = Path(r\"C:\\Users\\black\\Downloads\\microdatos_manzana\\Centroide\")\n",
    "out_dir.mkdir(parents=True, exist_ok=True)\n",
    "\n",
    "# Load\n",
    "gdf = gpd.read_file(input_path)\n",
    "\n",
    "# Regiones para EPSG 32718\n",
    "regiones_epsg32718 = [\n",
    "    \"REGIÓN DE ATACAMA\",\n",
    "    \"REGIÓN DE ARICA Y PARINACOTA\",\n",
    "    \"REGIÓN DE COQUIMBO\",\n",
    "    \"REGIÓN DE VALPARAÍSO\",\n",
    "    \"REGIÓN DE TARAPACÁ\",\n",
    "    \"REGIÓN DE ANTOFAGASTA\"\n",
    "]\n",
    "\n",
    "# Calcular centroides\n",
    "gdf[\"geometry\"] = gdf.geometry.centroid\n",
    "\n",
    "# Dividir y reproyectar\n",
    "gdf_18 = gdf[gdf[\"REGION\"].isin(regiones_epsg32718)].to_crs(epsg=32718)[[\"CUT\", \"TOTAL_PERS\", \"geometry\"]]\n",
    "gdf_19 = gdf[~gdf[\"REGION\"].isin(regiones_epsg32718)].to_crs(epsg=32719)[[\"CUT\", \"TOTAL_PERS\", \"geometry\"]]\n",
    "\n",
    "# Guardar shapefiles separados\n",
    "out18 = out_dir / \"Centroides_Manzana_32718.shp\"\n",
    "out19 = out_dir / \"Centroides_Manzana_32719.shp\"\n",
    "\n",
    "gdf_18.to_file(out18, driver=\"ESRI Shapefile\", encoding=\"utf-8\")\n",
    "gdf_19.to_file(out19, driver=\"ESRI Shapefile\", encoding=\"utf-8\")\n",
    "\n",
    "print(f\"Exportado: {out18}\")\n",
    "print(f\"Exportado: {out19}\")\n",
    "\n"
   ]
  },
  {
   "cell_type": "code",
   "execution_count": 5,
   "id": "7ce14a71",
   "metadata": {},
   "outputs": [
    {
     "name": "stderr",
     "output_type": "stream",
     "text": [
      "C:\\Users\\black\\AppData\\Local\\Temp\\ipykernel_24588\\1824467658.py:29: DeprecationWarning: DataFrameGroupBy.apply operated on the grouping columns. This behavior is deprecated, and in a future version of pandas the grouping columns will be excluded from the operation. Either pass `include_groups=False` to exclude the groupings or explicitly select the grouping columns after groupby to silence this warning.\n",
      "  .apply(lambda g: pd.Series({\n"
     ]
    },
    {
     "name": "stdout",
     "output_type": "stream",
     "text": [
      "Exportado: C:\\Users\\black\\Downloads\\microdatos_manzana\\Centroide\\Entidad_Promedios_32718.shp\n",
      "Exportado: C:\\Users\\black\\Downloads\\microdatos_manzana\\Centroide\\Entidad_Promedios_32719.shp\n"
     ]
    }
   ],
   "source": [
    "import geopandas as gpd\n",
    "import pandas as pd\n",
    "from shapely.geometry import Point\n",
    "from pathlib import Path\n",
    "\n",
    "# === Paths ===\n",
    "poly_path = r\"C:\\Users\\black\\Downloads\\microdatos_entidad\\Microdatos_Entidad.shp\"\n",
    "points_path = r\"C:\\Users\\black\\Downloads\\viviendas-rurales-precenso-2016\\Viviendas_Rurales_Precenso_2016.shp\"\n",
    "out_dir = Path(r\"C:\\Users\\black\\Downloads\\microdatos_manzana\\Centroide\")\n",
    "out_dir.mkdir(parents=True, exist_ok=True)\n",
    "\n",
    "# === Leer shapefiles ===\n",
    "polys = gpd.read_file(poly_path)\n",
    "pts = gpd.read_file(points_path)\n",
    "\n",
    "# === Regiones EPSG 32718 ===\n",
    "regiones_32718 = [1, 2, 3, 4, 5, 15]\n",
    "\n",
    "# Asegurar que ambos tengan el mismo CRS para hacer spatial join\n",
    "if polys.crs != pts.crs:\n",
    "    pts = pts.to_crs(polys.crs)\n",
    "\n",
    "# === Join espacial: asignar puntos a polígonos ===\n",
    "joined = gpd.sjoin(pts, polys, how=\"inner\", predicate=\"within\")\n",
    "\n",
    "# === Calcular promedio de coordenadas por polígono ===\n",
    "means = (\n",
    "    joined.groupby(\"index_right\")\n",
    "    .apply(lambda g: pd.Series({\n",
    "        \"x_mean\": g.geometry.x.mean(),\n",
    "        \"y_mean\": g.geometry.y.mean()\n",
    "    }))\n",
    ")\n",
    "\n",
    "# === Unir resultados con atributos de los polígonos ===\n",
    "polys_reset = polys.reset_index()\n",
    "result = polys_reset.merge(means, left_index=True, right_index=True)\n",
    "\n",
    "# Crear geometría con el promedio\n",
    "result[\"geometry\"] = [Point(xy) for xy in zip(result[\"x_mean\"], result[\"y_mean\"])]\n",
    "\n",
    "# Seleccionar columnas necesarias\n",
    "result = result[[\"COD_COMUNA\", \"TOTAL_PERS\", \"COD_REGION\", \"geometry\"]]\n",
    "result = gpd.GeoDataFrame(result, geometry=\"geometry\", crs=polys.crs)\n",
    "\n",
    "# === Separar por EPSG ===\n",
    "gdf_18 = result[result[\"COD_REGION\"].astype(int).isin(regiones_32718)].to_crs(epsg=32718)\n",
    "gdf_19 = result[~result[\"COD_REGION\"].astype(int).isin(regiones_32718)].to_crs(epsg=32719)\n",
    "\n",
    "# === Guardar ===\n",
    "out18 = out_dir / \"Entidad_Promedios_32718.shp\"\n",
    "out19 = out_dir / \"Entidad_Promedios_32719.shp\"\n",
    "\n",
    "gdf_18.to_file(out18, driver=\"ESRI Shapefile\", encoding=\"utf-8\")\n",
    "gdf_19.to_file(out19, driver=\"ESRI Shapefile\", encoding=\"utf-8\")\n",
    "\n",
    "print(f\"Exportado: {out18}\")\n",
    "print(f\"Exportado: {out19}\")\n"
   ]
  },
  {
   "cell_type": "code",
   "execution_count": 1,
   "id": "0b05a688",
   "metadata": {},
   "outputs": [
    {
     "name": "stderr",
     "output_type": "stream",
     "text": [
      "C:\\Users\\black\\AppData\\Local\\Temp\\ipykernel_2396\\2409089919.py:43: UserWarning: Column names longer than 10 characters will be truncated when saved to ESRI Shapefile.\n",
      "  gdf_18.to_file(out18, driver=\"ESRI Shapefile\", encoding=\"utf-8\")\n"
     ]
    },
    {
     "name": "stdout",
     "output_type": "stream",
     "text": [
      "Exportado: C:\\Users\\black\\Dropbox\\Proyectos\\microdatos_manzana\\Centroide\\Coordenadas_Huso18.shp\n",
      "Exportado: C:\\Users\\black\\Dropbox\\Proyectos\\microdatos_manzana\\Centroide\\Coordenadas_Huso19.shp\n"
     ]
    },
    {
     "name": "stderr",
     "output_type": "stream",
     "text": [
      "C:\\Users\\black\\AppData\\Local\\Temp\\ipykernel_2396\\2409089919.py:47: UserWarning: Column names longer than 10 characters will be truncated when saved to ESRI Shapefile.\n",
      "  gdf_19.to_file(out19, driver=\"ESRI Shapefile\", encoding=\"utf-8\")\n"
     ]
    }
   ],
   "source": [
    "import pandas as pd\n",
    "import geopandas as gpd\n",
    "from shapely.geometry import Point\n",
    "from pathlib import Path\n",
    "\n",
    "# === Paths ===\n",
    "excel_path = r\"C:\\Users\\black\\Dropbox\\Proyectos\\stations_info_stata.xlsx\"\n",
    "out_dir = Path(r\"C:\\Users\\black\\Dropbox\\Proyectos\\microdatos_manzana\\Centroide\")\n",
    "out_dir.mkdir(parents=True, exist_ok=True)\n",
    "\n",
    "# === Leer Excel ===\n",
    "df = pd.read_excel(excel_path)\n",
    "\n",
    "# Eliminar duplicados\n",
    "df = df.drop_duplicates(subset=[\"Estación\"])\n",
    "\n",
    "# Separar coordenadas UTM: \"282763 E 6848691 N\"\n",
    "df[[\"x\", \"dummyE\", \"y\", \"dummyN\"]] = df[\"CoordenadasUTM\"].str.split(expand=True)\n",
    "df[\"x\"] = df[\"x\"].astype(float)\n",
    "df[\"y\"] = df[\"y\"].astype(float)\n",
    "\n",
    "# Crear geometría\n",
    "geometry = [Point(xy) for xy in zip(df[\"x\"], df[\"y\"])]\n",
    "df[\"geometry\"] = geometry\n",
    "\n",
    "# Convertir a GeoDataFrame sin CRS inicial\n",
    "gdf = gpd.GeoDataFrame(df, geometry=\"geometry\")\n",
    "\n",
    "# Convertir fechas a string (para shapefile)\n",
    "for col in [\"date_inicio\", \"date_fin\"]:\n",
    "    if col in gdf.columns:\n",
    "        gdf[col] = gdf[col].astype(str)\n",
    "\n",
    "# === Separar por HUSO ===\n",
    "gdf_18 = gdf[gdf[\"Huso\"] == 18].set_crs(epsg=32718, allow_override=True)\n",
    "gdf_19 = gdf[gdf[\"Huso\"] == 19].set_crs(epsg=32719, allow_override=True)\n",
    "\n",
    "# === Exportar shapefiles ===\n",
    "out18 = out_dir / \"Coordenadas_Huso18.shp\"\n",
    "out19 = out_dir / \"Coordenadas_Huso19.shp\"\n",
    "\n",
    "if not gdf_18.empty:\n",
    "    gdf_18.to_file(out18, driver=\"ESRI Shapefile\", encoding=\"utf-8\")\n",
    "    print(f\"Exportado: {out18}\")\n",
    "\n",
    "if not gdf_19.empty:\n",
    "    gdf_19.to_file(out19, driver=\"ESRI Shapefile\", encoding=\"utf-8\")\n",
    "    print(f\"Exportado: {out19}\")\n"
   ]
  }
 ],
 "metadata": {
  "kernelspec": {
   "display_name": "Python 3",
   "language": "python",
   "name": "python3"
  },
  "language_info": {
   "codemirror_mode": {
    "name": "ipython",
    "version": 3
   },
   "file_extension": ".py",
   "mimetype": "text/x-python",
   "name": "python",
   "nbconvert_exporter": "python",
   "pygments_lexer": "ipython3",
   "version": "3.11.5"
  }
 },
 "nbformat": 4,
 "nbformat_minor": 5
}
